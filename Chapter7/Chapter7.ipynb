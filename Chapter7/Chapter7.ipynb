{
 "cells": [
  {
   "cell_type": "code",
   "execution_count": 5,
   "id": "c8af8217",
   "metadata": {},
   "outputs": [
    {
     "data": {
      "image/png": "[encoded data removed]",
      "text/plain": [
       "<Figure size 432x288 with 1 Axes>"
      ]
     },
     "metadata": {
      "needs_background": "light"
     },
     "output_type": "display_data"
    }
   ],
   "source": [
    "import numpy as np\n",
    "import matplotlib.pyplot as plt\n",
    "\n",
    "x1 = np.array([0, 0])\n",
    "x2 = np.array([15, 10])\n",
    "p = [i for i in range(1, 15)]\n",
    "dist =  []\n",
    "\n",
    "for i in range(1, 15):\n",
    "    dist.append(np.power(sum((abs(x1 - x2))**i), 1/i))\n",
    "    \n",
    "plt.plot(p, dist)\n",
    "plt.xlabel('p')\n",
    "plt.ylabel('Distance')\n",
    "plt.grid()\n",
    "plt.show()"
   ]
  },
  {
   "cell_type": "code",
   "execution_count": 1,
   "id": "55941eff",
   "metadata": {},
   "outputs": [
    {
     "data": {
      "text/html": [
       "<div>\n",
       "<style scoped>\n",
       "    .dataframe tbody tr th:only-of-type {\n",
       "        vertical-align: middle;\n",
       "    }\n",
       "\n",
       "    .dataframe tbody tr th {\n",
       "        vertical-align: top;\n",
       "    }\n",
       "\n",
       "    .dataframe thead th {\n",
       "        text-align: right;\n",
       "    }\n",
       "</style>\n",
       "<table border=\"1\" class=\"dataframe\">\n",
       "  <thead>\n",
       "    <tr style=\"text-align: right;\">\n",
       "      <th></th>\n",
       "      <th>CUST_ID</th>\n",
       "      <th>BALANCE</th>\n",
       "      <th>BALANCE_FREQUENCY</th>\n",
       "      <th>PURCHASES</th>\n",
       "      <th>ONEOFF_PURCHASES</th>\n",
       "      <th>INSTALLMENTS_PURCHASES</th>\n",
       "      <th>CASH_ADVANCE</th>\n",
       "      <th>PURCHASES_FREQUENCY</th>\n",
       "      <th>ONEOFF_PURCHASES_FREQUENCY</th>\n",
       "      <th>PURCHASES_INSTALLMENTS_FREQUENCY</th>\n",
       "      <th>CASH_ADVANCE_FREQUENCY</th>\n",
       "      <th>CASH_ADVANCE_TRX</th>\n",
       "      <th>PURCHASES_TRX</th>\n",
       "      <th>CREDIT_LIMIT</th>\n",
       "      <th>PAYMENTS</th>\n",
       "      <th>MINIMUM_PAYMENTS</th>\n",
       "      <th>PRC_FULL_PAYMENT</th>\n",
       "      <th>TENURE</th>\n",
       "    </tr>\n",
       "  </thead>\n",
       "  <tbody>\n",
       "    <tr>\n",
       "      <th>0</th>\n",
       "      <td>C10001</td>\n",
       "      <td>40.900749</td>\n",
       "      <td>0.818182</td>\n",
       "      <td>95.40</td>\n",
       "      <td>0.00</td>\n",
       "      <td>95.40</td>\n",
       "      <td>0.000000</td>\n",
       "      <td>0.166667</td>\n",
       "      <td>0.000000</td>\n",
       "      <td>0.083333</td>\n",
       "      <td>0.00</td>\n",
       "      <td>0</td>\n",
       "      <td>2</td>\n",
       "      <td>1000.0</td>\n",
       "      <td>201.802084</td>\n",
       "      <td>139.509787</td>\n",
       "      <td>0.000000</td>\n",
       "      <td>12</td>\n",
       "    </tr>\n",
       "    <tr>\n",
       "      <th>1</th>\n",
       "      <td>C10002</td>\n",
       "      <td>3202.467416</td>\n",
       "      <td>0.909091</td>\n",
       "      <td>0.00</td>\n",
       "      <td>0.00</td>\n",
       "      <td>0.00</td>\n",
       "      <td>6442.945483</td>\n",
       "      <td>0.000000</td>\n",
       "      <td>0.000000</td>\n",
       "      <td>0.000000</td>\n",
       "      <td>0.25</td>\n",
       "      <td>4</td>\n",
       "      <td>0</td>\n",
       "      <td>7000.0</td>\n",
       "      <td>4103.032597</td>\n",
       "      <td>1072.340217</td>\n",
       "      <td>0.222222</td>\n",
       "      <td>12</td>\n",
       "    </tr>\n",
       "    <tr>\n",
       "      <th>2</th>\n",
       "      <td>C10003</td>\n",
       "      <td>2495.148862</td>\n",
       "      <td>1.000000</td>\n",
       "      <td>773.17</td>\n",
       "      <td>773.17</td>\n",
       "      <td>0.00</td>\n",
       "      <td>0.000000</td>\n",
       "      <td>1.000000</td>\n",
       "      <td>1.000000</td>\n",
       "      <td>0.000000</td>\n",
       "      <td>0.00</td>\n",
       "      <td>0</td>\n",
       "      <td>12</td>\n",
       "      <td>7500.0</td>\n",
       "      <td>622.066742</td>\n",
       "      <td>627.284787</td>\n",
       "      <td>0.000000</td>\n",
       "      <td>12</td>\n",
       "    </tr>\n",
       "    <tr>\n",
       "      <th>4</th>\n",
       "      <td>C10005</td>\n",
       "      <td>817.714335</td>\n",
       "      <td>1.000000</td>\n",
       "      <td>16.00</td>\n",
       "      <td>16.00</td>\n",
       "      <td>0.00</td>\n",
       "      <td>0.000000</td>\n",
       "      <td>0.083333</td>\n",
       "      <td>0.083333</td>\n",
       "      <td>0.000000</td>\n",
       "      <td>0.00</td>\n",
       "      <td>0</td>\n",
       "      <td>1</td>\n",
       "      <td>1200.0</td>\n",
       "      <td>678.334763</td>\n",
       "      <td>244.791237</td>\n",
       "      <td>0.000000</td>\n",
       "      <td>12</td>\n",
       "    </tr>\n",
       "    <tr>\n",
       "      <th>5</th>\n",
       "      <td>C10006</td>\n",
       "      <td>1809.828751</td>\n",
       "      <td>1.000000</td>\n",
       "      <td>1333.28</td>\n",
       "      <td>0.00</td>\n",
       "      <td>1333.28</td>\n",
       "      <td>0.000000</td>\n",
       "      <td>0.666667</td>\n",
       "      <td>0.000000</td>\n",
       "      <td>0.583333</td>\n",
       "      <td>0.00</td>\n",
       "      <td>0</td>\n",
       "      <td>8</td>\n",
       "      <td>1800.0</td>\n",
       "      <td>1400.057770</td>\n",
       "      <td>2407.246035</td>\n",
       "      <td>0.000000</td>\n",
       "      <td>12</td>\n",
       "    </tr>\n",
       "  </tbody>\n",
       "</table>\n",
       "</div>"
      ],
      "text/plain": [
       "  CUST_ID      BALANCE  BALANCE_FREQUENCY  PURCHASES  ONEOFF_PURCHASES  \\\n",
       "0  C10001    40.900749           0.818182      95.40              0.00   \n",
       "1  C10002  3202.467416           0.909091       0.00              0.00   \n",
       "2  C10003  2495.148862           1.000000     773.17            773.17   \n",
       "4  C10005   817.714335           1.000000      16.00             16.00   \n",
       "5  C10006  1809.828751           1.000000    1333.28              0.00   \n",
       "\n",
       "   INSTALLMENTS_PURCHASES  CASH_ADVANCE  PURCHASES_FREQUENCY  \\\n",
       "0                   95.40      0.000000             0.166667   \n",
       "1                    0.00   6442.945483             0.000000   \n",
       "2                    0.00      0.000000             1.000000   \n",
       "4                    0.00      0.000000             0.083333   \n",
       "5                 1333.28      0.000000             0.666667   \n",
       "\n",
       "   ONEOFF_PURCHASES_FREQUENCY  PURCHASES_INSTALLMENTS_FREQUENCY  \\\n",
       "0                    0.000000                          0.083333   \n",
       "1                    0.000000                          0.000000   \n",
       "2                    1.000000                          0.000000   \n",
       "4                    0.083333                          0.000000   \n",
       "5                    0.000000                          0.583333   \n",
       "\n",
       "   CASH_ADVANCE_FREQUENCY  CASH_ADVANCE_TRX  PURCHASES_TRX  CREDIT_LIMIT  \\\n",
       "0                    0.00                 0              2        1000.0   \n",
       "1                    0.25                 4              0        7000.0   \n",
       "2                    0.00                 0             12        7500.0   \n",
       "4                    0.00                 0              1        1200.0   \n",
       "5                    0.00                 0              8        1800.0   \n",
       "\n",
       "      PAYMENTS  MINIMUM_PAYMENTS  PRC_FULL_PAYMENT  TENURE  \n",
       "0   201.802084        139.509787          0.000000      12  \n",
       "1  4103.032597       1072.340217          0.222222      12  \n",
       "2   622.066742        627.284787          0.000000      12  \n",
       "4   678.334763        244.791237          0.000000      12  \n",
       "5  1400.057770       2407.246035          0.000000      12  "
      ]
     },
     "execution_count": 1,
     "metadata": {},
     "output_type": "execute_result"
    }
   ],
   "source": [
    "import boto3\n",
    "import pandas as pd\n",
    "import numpy as np\n",
    "\n",
    "## Defining the s3 bucket\n",
    "s3 = boto3.resource('s3')\n",
    "bucket_name = 'data-445'\n",
    "bucket = s3.Bucket(bucket_name)\n",
    "\n",
    "## Defining the file to be read from s3 bucket\n",
    "file_key = 'Chapter7/Credit_Card_Clustering.csv'\n",
    "\n",
    "bucket_object = bucket.Object(file_key)\n",
    "file_object = bucket_object.get()\n",
    "file_content_stream = file_object.get('Body')\n",
    "\n",
    "## Reading the csv file\n",
    "credit_card = pd.read_csv(file_content_stream)\n",
    "\n",
    "## Removing observation with NaN\n",
    "credit_card = credit_card.dropna()\n",
    "credit_card.head()"
   ]
  },
  {
   "cell_type": "code",
   "execution_count": 5,
   "id": "ee362f4b",
   "metadata": {},
   "outputs": [
    {
     "data": {
      "text/plain": [
       "(array([[0.        , 0.15285636, 0.16804653, 0.16821934, 0.18200092,\n",
       "         0.19604685, 0.21296034, 0.21329994, 0.21382817, 0.21459301]]),\n",
       " array([[  99, 5382, 2842, 4007, 4433, 1991,  453, 3743,  693, 1937]]))"
      ]
     },
     "execution_count": 5,
     "metadata": {},
     "output_type": "execute_result"
    }
   ],
   "source": [
    "from sklearn.preprocessing import MinMaxScaler\n",
    "from sklearn.neighbors import NearestNeighbors\n",
    "\n",
    "## Selecting variables of interest\n",
    "X = credit_card.drop(['CUST_ID'], axis = 1)\n",
    "\n",
    "## Standardizing the data \n",
    "scaler = MinMaxScaler().fit(X)\n",
    "X = scaler.transform(X)\n",
    "\n",
    "## Fitting the k-NN \n",
    "knn_md = NearestNeighbors(n_neighbors = 10, algorithm = 'brute').fit(X)\n",
    "\n",
    "## Selecting the 100 data-point\n",
    "x_100 = X[99, :]\n",
    "\n",
    "## Finding the 10-nearest neighbors of x_100\n",
    "knn_md.kneighbors([x_100])"
   ]
  },
  {
   "cell_type": "code",
   "execution_count": 7,
   "id": "baf97b43",
   "metadata": {},
   "outputs": [
    {
     "data": {
      "text/plain": [
       "(array([[0.        , 0.15285636, 0.16804653, 0.16821934, 0.18200092,\n",
       "         0.19604685, 0.21296034, 0.21329994, 0.21382817, 0.21459301]]),\n",
       " array([[  99, 5382, 2842, 4007, 4433, 1991,  453, 3743,  693, 1937]]))"
      ]
     },
     "execution_count": 7,
     "metadata": {},
     "output_type": "execute_result"
    }
   ],
   "source": [
    "from sklearn.preprocessing import MinMaxScaler\n",
    "from sklearn.neighbors import NearestNeighbors\n",
    "\n",
    "## Selecting variables of interest\n",
    "X = credit_card.drop(['CUST_ID'], axis = 1)\n",
    "\n",
    "## Standardizing the data \n",
    "scaler = MinMaxScaler().fit(X)\n",
    "X = scaler.transform(X)\n",
    "\n",
    "## Fitting the k-NN \n",
    "knn_md = NearestNeighbors(n_neighbors = 10, algorithm = 'kd_tree').fit(X)\n",
    "\n",
    "## Selecting the 100 data-point\n",
    "x_100 = X[99, :]\n",
    "\n",
    "## Finding the 10-nearest neighbors of x_100\n",
    "knn_md.kneighbors([x_100])"
   ]
  },
  {
   "cell_type": "code",
   "execution_count": 8,
   "id": "5394b50b",
   "metadata": {},
   "outputs": [
    {
     "data": {
      "text/plain": [
       "(array([[0.        , 0.15285636, 0.16804653, 0.16821934, 0.18200092,\n",
       "         0.19604685, 0.21296034, 0.21329994, 0.21382817, 0.21459301]]),\n",
       " array([[  99, 5382, 2842, 4007, 4433, 1991,  453, 3743,  693, 1937]]))"
      ]
     },
     "execution_count": 8,
     "metadata": {},
     "output_type": "execute_result"
    }
   ],
   "source": [
    "from sklearn.preprocessing import MinMaxScaler\n",
    "from sklearn.neighbors import NearestNeighbors\n",
    "\n",
    "## Selecting variables of interest\n",
    "X = credit_card.drop(['CUST_ID'], axis = 1)\n",
    "\n",
    "## Standardizing the data \n",
    "scaler = MinMaxScaler().fit(X)\n",
    "X = scaler.transform(X)\n",
    "\n",
    "## Fitting the k-NN \n",
    "knn_md = NearestNeighbors(n_neighbors = 10, algorithm = 'ball_tree').fit(X)\n",
    "\n",
    "## Selecting the 100 data-point\n",
    "x_100 = X[99, :]\n",
    "\n",
    "## Finding the 10-nearest neighbors of x_100\n",
    "knn_md.kneighbors([x_100])"
   ]
  },
  {
   "cell_type": "code",
   "execution_count": 4,
   "id": "62352e4f",
   "metadata": {},
   "outputs": [
    {
     "data": {
      "text/plain": [
       "array([1, 1, 2, ..., 0, 1, 2], dtype=int32)"
      ]
     },
     "execution_count": 4,
     "metadata": {},
     "output_type": "execute_result"
    }
   ],
   "source": [
    "from sklearn.preprocessing import MinMaxScaler\n",
    "from sklearn.cluster import KMeans\n",
    "\n",
    "## Selecting variables of interest\n",
    "X = credit_card.drop(['CUST_ID'], axis = 1)\n",
    "\n",
    "## Standardizing the data \n",
    "scaler = MinMaxScaler().fit(X)\n",
    "X = scaler.transform(X)\n",
    "\n",
    "## Fitting k-means with 5 clusters\n",
    "kmeans_md = KMeans(n_clusters = 5, init = 'random', n_init = 20).fit(X)\n",
    "\n",
    "## Extracting cluster labels\n",
    "kmeans_md.labels_"
   ]
  },
  {
   "cell_type": "code",
   "execution_count": 5,
   "id": "460a43df",
   "metadata": {},
   "outputs": [
    {
     "data": {
      "text/plain": [
       "array([2, 2, 0, ..., 1, 2, 0], dtype=int32)"
      ]
     },
     "execution_count": 5,
     "metadata": {},
     "output_type": "execute_result"
    }
   ],
   "source": [
    "from sklearn.preprocessing import MinMaxScaler\n",
    "from sklearn.cluster import KMeans\n",
    "\n",
    "## Selecting variables of interest\n",
    "X = credit_card.drop(['CUST_ID'], axis = 1)\n",
    "\n",
    "## Standardizing the data \n",
    "scaler = MinMaxScaler().fit(X)\n",
    "X = scaler.transform(X)\n",
    "\n",
    "## Fitting k-means with 5 clusters\n",
    "kmeans_plus_plus_md = KMeans(n_clusters = 5, init = 'k-means++', n_init = 20).fit(X)\n",
    "\n",
    "## Extracting cluster labels\n",
    "kmeans_plus_plus_md.labels_"
   ]
  },
  {
   "cell_type": "code",
   "execution_count": 6,
   "id": "ac8f55a9",
   "metadata": {},
   "outputs": [
    {
     "data": {
      "text/plain": [
       "3519.579649622118"
      ]
     },
     "execution_count": 6,
     "metadata": {},
     "output_type": "execute_result"
    }
   ],
   "source": [
    "from sklearn.preprocessing import MinMaxScaler\n",
    "from sklearn.cluster import KMeans\n",
    "from sklearn.metrics import calinski_harabasz_score\n",
    "\n",
    "## Selecting variables of interest\n",
    "X = credit_card.drop(['CUST_ID'], axis = 1)\n",
    "\n",
    "## Standardizing the data \n",
    "scaler = MinMaxScaler().fit(X)\n",
    "X = scaler.transform(X)\n",
    "\n",
    "## Fitting k-means with 5 clusters\n",
    "kmeans_plus_plus_md = KMeans(n_clusters = 5, init = 'k-means++', n_init = 20).fit(X)\n",
    "\n",
    "## Computing the CH score\n",
    "CH_score = calinski_harabasz_score(X, kmeans_plus_plus_md.labels_)\n",
    "CH_score"
   ]
  },
  {
   "cell_type": "code",
   "execution_count": 7,
   "id": "c7ab610b",
   "metadata": {},
   "outputs": [
    {
     "data": {
      "text/plain": [
       "1.3185118161517475"
      ]
     },
     "execution_count": 7,
     "metadata": {},
     "output_type": "execute_result"
    }
   ],
   "source": [
    "from sklearn.preprocessing import MinMaxScaler\n",
    "from sklearn.cluster import KMeans\n",
    "from sklearn.metrics import davies_bouldin_score\n",
    "\n",
    "## Selecting variables of interest\n",
    "X = credit_card.drop(['CUST_ID'], axis = 1)\n",
    "\n",
    "## Standardizing the data \n",
    "scaler = MinMaxScaler().fit(X)\n",
    "X = scaler.transform(X)\n",
    "\n",
    "## Fitting k-means with 5 clusters\n",
    "kmeans_plus_plus_md = KMeans(n_clusters = 5, init = 'k-means++', n_init = 20).fit(X)\n",
    "\n",
    "## Computing the CH score\n",
    "DB_score = davies_bouldin_score(X, kmeans_plus_plus_md.labels_)\n",
    "DB_score"
   ]
  },
  {
   "cell_type": "code",
   "execution_count": 8,
   "id": "2444fb36",
   "metadata": {},
   "outputs": [
    {
     "data": {
      "text/plain": [
       "0.31579662491835225"
      ]
     },
     "execution_count": 8,
     "metadata": {},
     "output_type": "execute_result"
    }
   ],
   "source": [
    "from sklearn.preprocessing import MinMaxScaler\n",
    "from sklearn.cluster import KMeans\n",
    "from sklearn.metrics import silhouette_score\n",
    "\n",
    "## Selecting variables of interest\n",
    "X = credit_card.drop(['CUST_ID'], axis = 1)\n",
    "\n",
    "## Standardizing the data \n",
    "scaler = MinMaxScaler().fit(X)\n",
    "X = scaler.transform(X)\n",
    "\n",
    "## Fitting k-means with 5 clusters\n",
    "kmeans_plus_plus_md = KMeans(n_clusters = 5, init = 'k-means++', n_init = 20).fit(X)\n",
    "\n",
    "## Computing the CH score\n",
    "silhouette_score = silhouette_score(X, kmeans_plus_plus_md.labels_)\n",
    "silhouette_score"
   ]
  },
  {
   "cell_type": "code",
   "execution_count": 30,
   "id": "d3252fc0",
   "metadata": {},
   "outputs": [
    {
     "data": {
      "image/png": "[encoded data removed]",
      "text/plain": [
       "<Figure size 1080x432 with 3 Axes>"
      ]
     },
     "metadata": {
      "needs_background": "light"
     },
     "output_type": "display_data"
    }
   ],
   "source": [
    "from sklearn.preprocessing import MinMaxScaler\n",
    "from sklearn.cluster import KMeans\n",
    "from sklearn.metrics import calinski_harabasz_score\n",
    "from sklearn.metrics import davies_bouldin_score\n",
    "from sklearn.metrics import silhouette_score\n",
    "import matplotlib.pyplot as plt\n",
    "\n",
    "## Selecting variables of interest\n",
    "X = credit_card.drop(['CUST_ID'], axis = 1)\n",
    "\n",
    "## Standardizing the data \n",
    "scaler = MinMaxScaler().fit(X)\n",
    "X = scaler.transform(X)\n",
    "\n",
    "## Defining the number of clusters to be considered\n",
    "krange = list(range(2, 20))\n",
    "\n",
    "## Defining lists to store scores\n",
    "CH_scores, DB_scores, silhouette_scores = list(), list(), list() \n",
    "\n",
    "for i in krange:\n",
    "    \n",
    "    ## Here we define the k-means model\n",
    "    cluster_md = KMeans(n_clusters = i, n_init = 20).fit(X)\n",
    "    cluster_assignments = cluster_md.labels_\n",
    "    \n",
    "    ## Here we extract CH, DB and silhoutte scores\n",
    "    CH = calinski_harabasz_score(X, cluster_assignments)\n",
    "    DB = davies_bouldin_score(X, cluster_assignments)\n",
    "    silhouette = silhouette_score(X, cluster_assignments)\n",
    "    \n",
    "    ## Storing scores\n",
    "    CH_scores.append(CH)\n",
    "    DB_scores.append(DB)\n",
    "    silhouette_scores.append(silhouette)\n",
    "    \n",
    "## Visualizing the scores    \n",
    "fig, axs = plt.subplots(1, 3, figsize = (15, 6))\n",
    "axs[0].plot(krange, CH_scores)\n",
    "axs[0].set_xlabel('Number of Clusters (k)')\n",
    "axs[0].set_ylabel('CH-Score')\n",
    "axs[0].grid()\n",
    "\n",
    "axs[1].plot(krange, DB_scores)\n",
    "axs[1].set_xlabel('Number of Clusters (k)')\n",
    "axs[1].set_ylabel('DB-Score')\n",
    "axs[1].grid()\n",
    "\n",
    "axs[2].plot(krange, silhouette_scores)\n",
    "axs[2].set_xlabel('Number of Clusters (k)')\n",
    "axs[2].set_ylabel('Silhouette-Score')\n",
    "axs[2].grid()\n",
    "\n",
    "# fig.savefig('chapter7_plot2.pdf')"
   ]
  },
  {
   "cell_type": "code",
   "execution_count": null,
   "id": "b68efeea",
   "metadata": {},
   "outputs": [],
   "source": []
  }
 ],
 "metadata": {
  "kernelspec": {
   "display_name": "conda_python3",
   "language": "python",
   "name": "conda_python3"
  },
  "language_info": {
   "codemirror_mode": {
    "name": "ipython",
    "version": 3
   },
   "file_extension": ".py",
   "mimetype": "text/x-python",
   "name": "python",
   "nbconvert_exporter": "python",
   "pygments_lexer": "ipython3",
   "version": "3.6.13"
  }
 },
 "nbformat": 4,
 "nbformat_minor": 5
}
